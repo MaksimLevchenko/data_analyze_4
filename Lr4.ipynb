{
 "cells": [
  {
   "cell_type": "markdown",
   "metadata": {},
   "source": [
    "## Цель работы\n",
    "\n",
    "Изучение алгоритмов и методов кластеризации на практике.\n"
   ]
  },
  {
   "cell_type": "markdown",
   "metadata": {},
   "source": [
    "## Вариант 2 (7)\n",
    "\n",
    "Набор данных 2liver.csv\n",
    "Содержит информацию о заболеваемости печени:\n",
    " Возраст пациента\n",
    " Пол пациента\n",
    " Общий билирубин\n",
    " Прямой билирубин\n",
    " Щелочная фосфатаза\n",
    " Аламиноаминотрансфераза\n",
    " Аспартатаминотрансфераза\n",
    " Всего белков\n",
    " Альбумин\n",
    " Соотношение альбуминов и глобулинов\n",
    " Цель: поле, используемое для разделения данных на два набора (пациент с заболеванием печени\n",
    "или без заболевания)."
   ]
  },
  {
   "cell_type": "markdown",
   "metadata": {},
   "source": [
    "## Ход выполнения работы\n",
    "\n",
    "Перед началом работы импортируются библиотеки, необходимые для выполнения задания."
   ]
  },
  {
   "cell_type": "code",
   "execution_count": null,
   "metadata": {},
   "outputs": [],
   "source": [
    "import pandas as pd\n",
    "import numpy as np\n",
    "from sklearn.cluster import KMeans\n",
    "import matplotlib.pyplot as plt\n",
    "from sklearn.metrics import silhouette_score"
   ]
  },
  {
   "cell_type": "markdown",
   "metadata": {},
   "source": [
    "Выполняется часть 1:\n",
    "1. пользовать функцию для создания набора данных. \n",
    "2. В результате применения получается  DataFrame , содержащий заданное число объектов в каждой группе\n",
    "(всего 3 группы) с двумя признаками:  'x'  и  'y' .\n",
    "Получить с помощью этой функции два набора данных\n",
    "train и test . (выбрать параметр n от 30 до 100), а параметр seed для train и test выбирать разный.\n",
    "1. Провести стандартизацию данных.\n",
    "2. С помощью метода  .fit_predict  обучить модель для кластеризации методом Kmeans для трёх кластеров.\n",
    "Получить метки кластеров.\n",
    "1. Провести визуализацию кластеров с помощью scatter . Пометить на графике центры кластеров. Покрасить объекты из разных кластеров разными цветами.\n",
    "2. Использовать тестовые данные test и выполнить предсказание с помощью predict . Построить графики для тестовых данных. Пометить на графике центры кластеров. Покрасить объекты из разных кластеров разными цветами.\n",
    "3. Подсчитать коэффициент силуэта.\n",
    "4. Повторить пункты 4-7 для n_clusters = 2 и n_clusters = 4 . Сравнить результаты и сделать выводы.\n",
    "5. Построить график по “методу локтя и сделать выводы.\n"
   ]
  },
  {
   "cell_type": "markdown",
   "metadata": {},
   "source": [
    "Функция для создания набора данных:"
   ]
  },
  {
   "cell_type": "code",
   "execution_count": 38,
   "metadata": {},
   "outputs": [],
   "source": [
    "def make_data(n, seed):\n",
    " np.random.seed(seed)\n",
    "\n",
    " shift_matrix = np.array([[3, 3],\n",
    " [6, 9],\n",
    "[9, 3]])\n",
    "\n",
    " data = np.random.randn(3, 2, n) + shift_matrix.reshape((3, 2, 1))\n",
    " data = np.swapaxes(data, 1, 2)\n",
    " data = data.reshape((-1, 2))\n",
    " data *= np.array([[20, 0.5]])\n",
    "\n",
    " df = pd.DataFrame({'x': data[:, 0], 'y': data[:, 1]},\n",
    " columns=['x', 'y'])\n",
    " df = df.sample(frac=1.0)\n",
    " return df\n"
   ]
  },
  {
   "cell_type": "markdown",
   "metadata": {},
   "source": [
    "Создаются тренировочный и тестовый наборы данных."
   ]
  },
  {
   "cell_type": "code",
   "execution_count": null,
   "metadata": {},
   "outputs": [],
   "source": [
    "df_train = make_data(100, 852741)\n",
    "df_test = make_data(90, 2)"
   ]
  },
  {
   "cell_type": "markdown",
   "metadata": {},
   "source": [
    "Далее данные в этих наборах стандартизируются."
   ]
  },
  {
   "cell_type": "markdown",
   "metadata": {},
   "source": [
    "from sklearn.preprocessing import StandardScaler\n",
    "scaler = StandardScaler()\n",
    "scaler.fit(df_train)\n",
    "df_train_scaled = scaler.transform(df_train)\n",
    "\n",
    "scaler = StandardScaler()\n",
    "scaler.fit(df_test)\n",
    "df_test_scaled = scaler.transform(df_test)"
   ]
  },
  {
   "cell_type": "markdown",
   "metadata": {},
   "source": [
    "Для разного количества кластеров - от 2 до 4 создается 3 модели. Для каждой модели считается коэфицент силуэта, строится график для тренировочных и тестовых данных."
   ]
  },
  {
   "cell_type": "code",
   "execution_count": null,
   "metadata": {},
   "outputs": [],
   "source": [
    "for num_of_clusters in range(2, 5):\n",
    "    k_means = KMeans(n_clusters = num_of_clusters, random_state = 0)\n",
    "    labels_train = k_means.fit_predict(df_train_scaled)\n",
    "    labels_test = k_means.predict(df_test_scaled)\n",
    "    centroids = k_means.cluster_centers_\n",
    "\n",
    "\n",
    "    silhouette_avg = silhouette_score(df_test_scaled, labels_test)\n",
    "    print(f\"Коэффициент силуэта: {silhouette_avg:.3f}\")\n",
    "\n",
    "\n",
    "    fig, axes = plt.subplots(1, 2, figsize=(16, 6))\n",
    "\n",
    "    for j in range(num_of_clusters):\n",
    "        cluster_points = df_train_scaled[labels_train == j]\n",
    "        axes[0].scatter(cluster_points[:, 0], cluster_points[:, 1], label=f'Кластер {j+1}')\n",
    "    axes[0].scatter(centroids[:, 0], centroids[:, 1], s=200, c='red', marker='X', label='Центроиды')\n",
    "    axes[0].set_title(f'Кластеризация тренировочных данных ({num_of_clusters} кластеров)')\n",
    "    axes[0].set_xlabel('x')\n",
    "    axes[0].set_ylabel('y')\n",
    "    axes[0].legend()\n",
    "    axes[0].grid(True)\n",
    "\n",
    "    for j in range(num_of_clusters):\n",
    "        cluster_points = df_test_scaled[labels_test == j]\n",
    "        axes[1].scatter(cluster_points[:, 0], cluster_points[:, 1], label=f'Кластер {j+1}')\n",
    "    axes[1].scatter(centroids[:, 0], centroids[:, 1], s=200, c='red', marker='X', label='Центроиды')\n",
    "    axes[1].set_title(f'Кластеризация тестовых данных ({num_of_clusters} кластеров)')\n",
    "    axes[1].set_xlabel('x')\n",
    "    axes[1].set_ylabel('y')\n",
    "    axes[1].legend()\n",
    "    axes[1].grid(True)\n",
    "\n",
    "    plt.tight_layout()\n",
    "    plt.show()"
   ]
  },
  {
   "cell_type": "markdown",
   "metadata": {},
   "source": [
    "Из полученных результатов можно сделать вывод, что деление данных на 2 или 4 кластера менее эффективно, чем на 3. При делении на каждое количество кластеров коэфицент положительный, а значит данные находятся в подходящих кластерах. Но ближе к 1 коэфицент силуэта который мы получаем при делении на 3 кластера.\n",
    "После этого строится график по методу локтя, который тоже показыввает что оптимальное количество кластеров - 3."
   ]
  },
  {
   "cell_type": "code",
   "execution_count": null,
   "metadata": {},
   "outputs": [],
   "source": [
    "from yellowbrick.cluster import KElbowVisualizer\n",
    "model = KMeans(random_state=0)\n",
    "\n",
    "visualizer = KElbowVisualizer(model, k=(1, 11), timings=False)\n",
    "visualizer.fit(df_train_scaled)\n",
    "visualizer.show()"
   ]
  },
  {
   "cell_type": "markdown",
   "metadata": {},
   "source": []
  },
  {
   "cell_type": "markdown",
   "metadata": {},
   "source": []
  },
  {
   "cell_type": "markdown",
   "metadata": {},
   "source": [
    "## Выводы\n",
    "\n",
    "В ходе выполнения работы были изучены алгоритмы и методы регрессии на практике. Были обучены модели простой линейной регрессии, полиномиальной регрессии и регрессии методом k-ближайших соседей. Были изучены метрики качества регрессии (MSE, MAE, RMSE, R2). Были построены графики регрессии и визуализированы фактические и предсказанные значения. Были сделаны выводы относительно важности признаков и сравнены результаты, полученные разными методами.\n",
    "Было выяснено, что полином степени полиномов, в зависимости от данных, может переобучаться. Так же было выяснено, что при увеличении степени полинома увеличивается точность предсказания.\n",
    "Было установлено, что цена автомобиля позитивно коррелирует с размером двигателя, колесной базой, расположением двигателя, массой автомобиля и шириной автомобиля. Однако цена автомобиля негативно коррелирует с расходом топлива, длиной кузова, типом топлива и различными параметрами двигателя. С другими параметрами цена автомобиля почти не коррелирует.\n",
    "Так же было выяснено, что линейная регрессия показывает лучшие результаты, чем метод k-ближайших соседей. Однако на маленьких значениях KNN показывает лучшие результаты. "
   ]
  }
 ],
 "metadata": {
  "kernelspec": {
   "display_name": ".venv",
   "language": "python",
   "name": "python3"
  },
  "language_info": {
   "codemirror_mode": {
    "name": "ipython",
    "version": 3
   },
   "file_extension": ".py",
   "mimetype": "text/x-python",
   "name": "python",
   "nbconvert_exporter": "python",
   "pygments_lexer": "ipython3",
   "version": "3.10.11"
  }
 },
 "nbformat": 4,
 "nbformat_minor": 2
}
